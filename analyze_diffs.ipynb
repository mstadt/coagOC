{
 "cells": [
  {
   "cell_type": "markdown",
   "metadata": {},
   "source": [
    "# Analyze differences for factor levels\n",
    "This notebook can be used to analyze the differences in factor levels changes after lev and dsg"
   ]
  },
  {
   "cell_type": "code",
   "execution_count": 1,
   "metadata": {},
   "outputs": [],
   "source": [
    "# imports here\n",
    "import numpy as np\n",
    "import pandas as pd\n",
    "import seaborn as sns\n",
    "import matplotlib.pyplot as plt\n"
   ]
  },
  {
   "cell_type": "code",
   "execution_count": 2,
   "metadata": {},
   "outputs": [],
   "source": [
    "# number of permutations\n",
    "n_perms = 1e7\n",
    "str_num = \"{:.1e}\".format(n_perms)\n",
    "\n",
    "# date\n",
    "date_string = '2023-12-20'"
   ]
  },
  {
   "cell_type": "markdown",
   "metadata": {},
   "source": [
    "# Get Middeldorp data"
   ]
  },
  {
   "cell_type": "code",
   "execution_count": 3,
   "metadata": {},
   "outputs": [
    {
     "name": "stdout",
     "output_type": "stream",
     "text": [
      "         mean inc lev  sd inc lev  mean inc dsg  sd inc dsg\n",
      "factors                                                    \n",
      "VII                12          15            32          10\n",
      "V                  -3          12           -11           8\n",
      "VIII                6          25            10          23\n",
      "X                  22          14            25          12\n",
      "II                 12           8            16           6\n"
     ]
    }
   ],
   "source": [
    "# Here are the values from Middeldorp et al. 2000 Table 1\n",
    "df_Midd = pd.DataFrame(columns = ['factors','mean inc lev', 'sd inc lev', 'mean inc dsg', 'sd inc dsg'])\n",
    "df_Midd['factors'] = ['VII', 'V', 'VIII', 'X', 'II']\n",
    "df_Midd['mean inc lev'] = [12, -3, 6, 22, 12]\n",
    "df_Midd['sd inc lev'] = [15,12,25,14,8]\n",
    "df_Midd['mean inc dsg'] = [32,-11,10,25,16]\n",
    "df_Midd['sd inc dsg'] = [10,8,23,12,6]\n",
    "df_Midd.set_index('factors', inplace = True)\n",
    "\n",
    "print(df_Midd)"
   ]
  },
  {
   "cell_type": "markdown",
   "metadata": {},
   "source": [
    "# Factor VII"
   ]
  },
  {
   "cell_type": "code",
   "execution_count": 4,
   "metadata": {},
   "outputs": [],
   "source": [
    "factor = 'VII'\n",
    "fname = date_string + 'Factor' + factor + '_diffs_nperms-'+ str_num + '.csv'\n",
    "datVII = pd.read_csv(fname)"
   ]
  },
  {
   "cell_type": "code",
   "execution_count": 5,
   "metadata": {},
   "outputs": [
    {
     "data": {
      "text/html": [
       "<div>\n",
       "<style scoped>\n",
       "    .dataframe tbody tr th:only-of-type {\n",
       "        vertical-align: middle;\n",
       "    }\n",
       "\n",
       "    .dataframe tbody tr th {\n",
       "        vertical-align: top;\n",
       "    }\n",
       "\n",
       "    .dataframe thead th {\n",
       "        text-align: right;\n",
       "    }\n",
       "</style>\n",
       "<table border=\"1\" class=\"dataframe\">\n",
       "  <thead>\n",
       "    <tr style=\"text-align: right;\">\n",
       "      <th></th>\n",
       "      <th>mean diff lev</th>\n",
       "      <th>std diff lev</th>\n",
       "      <th>range diff lev</th>\n",
       "      <th>mean diff dsg</th>\n",
       "      <th>std diff dsg</th>\n",
       "      <th>range diff dsg</th>\n",
       "    </tr>\n",
       "  </thead>\n",
       "  <tbody>\n",
       "    <tr>\n",
       "      <th>0</th>\n",
       "      <td>11.338376</td>\n",
       "      <td>20.042579</td>\n",
       "      <td>75.152749</td>\n",
       "      <td>31.319686</td>\n",
       "      <td>22.457008</td>\n",
       "      <td>96.951220</td>\n",
       "    </tr>\n",
       "    <tr>\n",
       "      <th>1</th>\n",
       "      <td>11.338376</td>\n",
       "      <td>27.249753</td>\n",
       "      <td>116.211813</td>\n",
       "      <td>31.319686</td>\n",
       "      <td>28.454273</td>\n",
       "      <td>125.121951</td>\n",
       "    </tr>\n",
       "    <tr>\n",
       "      <th>2</th>\n",
       "      <td>11.338376</td>\n",
       "      <td>27.838056</td>\n",
       "      <td>108.513238</td>\n",
       "      <td>31.319686</td>\n",
       "      <td>28.844052</td>\n",
       "      <td>115.243902</td>\n",
       "    </tr>\n",
       "    <tr>\n",
       "      <th>3</th>\n",
       "      <td>11.338376</td>\n",
       "      <td>27.903670</td>\n",
       "      <td>131.242363</td>\n",
       "      <td>31.319686</td>\n",
       "      <td>28.072537</td>\n",
       "      <td>133.170732</td>\n",
       "    </tr>\n",
       "    <tr>\n",
       "      <th>4</th>\n",
       "      <td>11.338376</td>\n",
       "      <td>24.810975</td>\n",
       "      <td>111.812627</td>\n",
       "      <td>31.319686</td>\n",
       "      <td>26.308294</td>\n",
       "      <td>112.682927</td>\n",
       "    </tr>\n",
       "  </tbody>\n",
       "</table>\n",
       "</div>"
      ],
      "text/plain": [
       "   mean diff lev  std diff lev  range diff lev  mean diff dsg  std diff dsg  \\\n",
       "0      11.338376     20.042579       75.152749      31.319686     22.457008   \n",
       "1      11.338376     27.249753      116.211813      31.319686     28.454273   \n",
       "2      11.338376     27.838056      108.513238      31.319686     28.844052   \n",
       "3      11.338376     27.903670      131.242363      31.319686     28.072537   \n",
       "4      11.338376     24.810975      111.812627      31.319686     26.308294   \n",
       "\n",
       "   range diff dsg  \n",
       "0       96.951220  \n",
       "1      125.121951  \n",
       "2      115.243902  \n",
       "3      133.170732  \n",
       "4      112.682927  "
      ]
     },
     "execution_count": 5,
     "metadata": {},
     "output_type": "execute_result"
    }
   ],
   "source": [
    "datVII.head()"
   ]
  },
  {
   "cell_type": "code",
   "execution_count": 6,
   "metadata": {},
   "outputs": [
    {
     "name": "stdout",
     "output_type": "stream",
     "text": [
      "Middeldorp mean:  12\n",
      "11.338376492050937\n",
      "11.338376491125986\n",
      "11.338376491125974\n",
      "Middeldorp mean:  32\n",
      "31.319686412712986\n",
      "31.319686411149853\n",
      "31.319686411149828\n"
     ]
    }
   ],
   "source": [
    "# Mean differences\n",
    "print('Middeldorp mean: ', df_Midd.loc[factor, 'mean inc lev'])\n",
    "print(np.mean(datVII['mean diff lev']))\n",
    "print(np.max(datVII['mean diff lev']))\n",
    "print(np.min(datVII['mean diff lev']))\n",
    "\n",
    "print('Middeldorp mean: ', df_Midd.loc[factor, 'mean inc dsg'])\n",
    "print(np.mean(datVII['mean diff dsg']))\n",
    "print(np.max(datVII['mean diff dsg']))\n",
    "print(np.min(datVII['mean diff dsg']))"
   ]
  },
  {
   "cell_type": "code",
   "execution_count": 7,
   "metadata": {},
   "outputs": [
    {
     "name": "stdout",
     "output_type": "stream",
     "text": [
      "Middeldorp std:  15\n",
      "25.18230472633096\n",
      "33.77770292680366\n",
      "11.400375171578936\n",
      "Middeldorp std:  10\n",
      "25.81933798358006\n",
      "34.61957497573014\n",
      "10.579678900918577\n"
     ]
    }
   ],
   "source": [
    "# Std differences\n",
    "print('Middeldorp std: ', df_Midd.loc[factor, 'sd inc lev'])\n",
    "print(np.mean(datVII['std diff lev']))\n",
    "print(np.max(datVII['std diff lev']))\n",
    "print(np.min(datVII['std diff lev']))\n",
    "\n",
    "print('Middeldorp std: ', df_Midd.loc[factor, 'sd inc dsg'])\n",
    "print(np.mean(datVII['std diff dsg']))\n",
    "print(np.max(datVII['std diff dsg']))\n",
    "print(np.min(datVII['std diff dsg']))"
   ]
  },
  {
   "cell_type": "code",
   "execution_count": 8,
   "metadata": {},
   "outputs": [
    {
     "name": "stdout",
     "output_type": "stream",
     "text": [
      "15\n"
     ]
    },
    {
     "data": {
      "image/png": "[encoded data removed]",
      "text/plain": [
       "<Figure size 504x360 with 1 Axes>"
      ]
     },
     "metadata": {
      "needs_background": "light"
     },
     "output_type": "display_data"
    },
    {
     "data": {
      "text/plain": [
       "<Figure size 432x288 with 0 Axes>"
      ]
     },
     "metadata": {},
     "output_type": "display_data"
    }
   ],
   "source": [
    "# std differences lev\n",
    "plt.figure(figsize=(7,5))\n",
    "plt.hist(datVII['std diff lev'], density = True, bins = 30)\n",
    "plt.axvline(x=df_Midd.loc['VII', 'sd inc lev'], color='r', linestyle='--')\n",
    "plt.xlabel('std Factor VII difference after lev', fontsize=18)\n",
    "plt.ylabel('density', fontsize = 18)\n",
    "plt.rcParams.update({'font.size': 16})\n",
    "print(df_Midd.loc['VII', 'sd inc lev'])\n",
    "plt.show()\n",
    "\n",
    "plt.clf()"
   ]
  },
  {
   "cell_type": "code",
   "execution_count": 9,
   "metadata": {},
   "outputs": [
    {
     "name": "stdout",
     "output_type": "stream",
     "text": [
      "Middeldorp std:  15\n",
      "There are  4670  permutations within 10 percent of the standard deviation\n",
      "(array([   2246,    9203,   10220, ..., 9998931, 9999414, 9999469]),)\n"
     ]
    }
   ],
   "source": [
    "# How many are within 10% of the reported SD?\n",
    "Midd_sd = df_Midd.loc['VII', 'sd inc lev']\n",
    "print('Middeldorp std: ', Midd_sd)\n",
    "Midd_sd_max = 1.1 * Midd_sd\n",
    "Midd_sd_min = 0.9 * Midd_sd\n",
    "\n",
    "arr = datVII['std diff lev']\n",
    "low = Midd_sd_min\n",
    "high = Midd_sd_max\n",
    "mask = (arr > low) & (arr < high)\n",
    "count = np.count_nonzero(mask)\n",
    "\n",
    "print(\"There are \", count, \" permutations within 10 percent of the standard deviation\")\n",
    "print(np.where(mask))"
   ]
  },
  {
   "cell_type": "code",
   "execution_count": 10,
   "metadata": {},
   "outputs": [
    {
     "name": "stdout",
     "output_type": "stream",
     "text": [
      "10\n"
     ]
    },
    {
     "data": {
      "image/png": "[encoded data removed]",
      "text/plain": [
       "<Figure size 504x360 with 1 Axes>"
      ]
     },
     "metadata": {
      "needs_background": "light"
     },
     "output_type": "display_data"
    },
    {
     "data": {
      "text/plain": [
       "<Figure size 432x288 with 0 Axes>"
      ]
     },
     "metadata": {},
     "output_type": "display_data"
    }
   ],
   "source": [
    "# std differences dsg\n",
    "plt.figure(figsize=(7,5))\n",
    "plt.hist(datVII['std diff dsg'], density = True, bins = 30)\n",
    "plt.axvline(x=df_Midd.loc['VII', 'sd inc dsg'], color='r', linestyle='--')\n",
    "plt.xlabel('std Factor VII difference after dsg', fontsize=18)\n",
    "plt.ylabel('density', fontsize = 18)\n",
    "plt.rcParams.update({'font.size': 16})\n",
    "print(df_Midd.loc['VII', 'sd inc dsg'])\n",
    "plt.show()\n",
    "plt.clf()"
   ]
  },
  {
   "cell_type": "code",
   "execution_count": 11,
   "metadata": {},
   "outputs": [
    {
     "name": "stdout",
     "output_type": "stream",
     "text": [
      "Middeldorp std:  10\n",
      "There are  1  permutations within 10 percent of the standard deviation\n",
      "(array([9531647]),)\n"
     ]
    }
   ],
   "source": [
    "# How many are within 10% of the reported SD?\n",
    "Midd_sd = df_Midd.loc['VII', 'sd inc dsg']\n",
    "print('Middeldorp std: ', Midd_sd)\n",
    "Midd_sd_max = 1.1 * Midd_sd\n",
    "Midd_sd_min = 0.9 * Midd_sd\n",
    "\n",
    "arr = datVII['std diff dsg']\n",
    "low = Midd_sd_min\n",
    "high = Midd_sd_max\n",
    "mask = (arr > low) & (arr < high)\n",
    "count = np.count_nonzero(mask)\n",
    "\n",
    "print(\"There are \", count, \" permutations within 10 percent of the standard deviation\")\n",
    "print(np.where(mask))"
   ]
  },
  {
   "cell_type": "code",
   "execution_count": 12,
   "metadata": {},
   "outputs": [
    {
     "name": "stdout",
     "output_type": "stream",
     "text": [
      "5.583091983032792\n",
      "31.319686411149842\n",
      "ordered std is  5.583091983032792\n"
     ]
    }
   ],
   "source": [
    "# Is it possible to get this std?\n",
    "# Import factor VII data\n",
    "# load data\n",
    "fname = 'data/Factor' + 'VII' + '_all.csv'\n",
    "dat_MiddVII = pd.read_csv(fname)\n",
    "\n",
    "dat_noOC2 = np.sort(dat_MiddVII['noOC2'].to_numpy()) # no OC2 data\n",
    "dat_dsg = np.sort(dat_MiddVII['dsg'].to_numpy()) # dsg data\n",
    "\n",
    "dsg_diff = dat_dsg - dat_noOC2\n",
    "print(np.std(dsg_diff))\n",
    "print(np.mean(dsg_diff))\n",
    "\n",
    "print('ordered std is ', np.std(dsg_diff))"
   ]
  },
  {
   "cell_type": "markdown",
   "metadata": {},
   "source": [
    "# Factor V"
   ]
  },
  {
   "cell_type": "code",
   "execution_count": 13,
   "metadata": {},
   "outputs": [],
   "source": [
    "# factor\n",
    "factor = 'V'\n",
    "fname = date_string + 'Factor' + factor + '_diffs_nperms-'+ str_num + '.csv'\n",
    "datV = pd.read_csv(fname)"
   ]
  },
  {
   "cell_type": "code",
   "execution_count": 14,
   "metadata": {},
   "outputs": [
    {
     "data": {
      "text/html": [
       "<div>\n",
       "<style scoped>\n",
       "    .dataframe tbody tr th:only-of-type {\n",
       "        vertical-align: middle;\n",
       "    }\n",
       "\n",
       "    .dataframe tbody tr th {\n",
       "        vertical-align: top;\n",
       "    }\n",
       "\n",
       "    .dataframe thead th {\n",
       "        text-align: right;\n",
       "    }\n",
       "</style>\n",
       "<table border=\"1\" class=\"dataframe\">\n",
       "  <thead>\n",
       "    <tr style=\"text-align: right;\">\n",
       "      <th></th>\n",
       "      <th>mean diff lev</th>\n",
       "      <th>std diff lev</th>\n",
       "      <th>range diff lev</th>\n",
       "      <th>mean diff dsg</th>\n",
       "      <th>std diff dsg</th>\n",
       "      <th>range diff dsg</th>\n",
       "    </tr>\n",
       "  </thead>\n",
       "  <tbody>\n",
       "    <tr>\n",
       "      <th>0</th>\n",
       "      <td>-3.5363</td>\n",
       "      <td>20.166192</td>\n",
       "      <td>85.901639</td>\n",
       "      <td>-11.651786</td>\n",
       "      <td>17.550719</td>\n",
       "      <td>84.3750</td>\n",
       "    </tr>\n",
       "    <tr>\n",
       "      <th>1</th>\n",
       "      <td>-3.5363</td>\n",
       "      <td>24.350488</td>\n",
       "      <td>104.590164</td>\n",
       "      <td>-11.651786</td>\n",
       "      <td>22.031623</td>\n",
       "      <td>112.5000</td>\n",
       "    </tr>\n",
       "    <tr>\n",
       "      <th>2</th>\n",
       "      <td>-3.5363</td>\n",
       "      <td>25.975993</td>\n",
       "      <td>110.163934</td>\n",
       "      <td>-11.651786</td>\n",
       "      <td>23.395477</td>\n",
       "      <td>111.5625</td>\n",
       "    </tr>\n",
       "    <tr>\n",
       "      <th>3</th>\n",
       "      <td>-3.5363</td>\n",
       "      <td>24.586785</td>\n",
       "      <td>114.426230</td>\n",
       "      <td>-11.651786</td>\n",
       "      <td>21.212193</td>\n",
       "      <td>99.0625</td>\n",
       "    </tr>\n",
       "    <tr>\n",
       "      <th>4</th>\n",
       "      <td>-3.5363</td>\n",
       "      <td>22.091361</td>\n",
       "      <td>98.360656</td>\n",
       "      <td>-11.651786</td>\n",
       "      <td>19.204836</td>\n",
       "      <td>81.2500</td>\n",
       "    </tr>\n",
       "  </tbody>\n",
       "</table>\n",
       "</div>"
      ],
      "text/plain": [
       "   mean diff lev  std diff lev  range diff lev  mean diff dsg  std diff dsg  \\\n",
       "0        -3.5363     20.166192       85.901639     -11.651786     17.550719   \n",
       "1        -3.5363     24.350488      104.590164     -11.651786     22.031623   \n",
       "2        -3.5363     25.975993      110.163934     -11.651786     23.395477   \n",
       "3        -3.5363     24.586785      114.426230     -11.651786     21.212193   \n",
       "4        -3.5363     22.091361       98.360656     -11.651786     19.204836   \n",
       "\n",
       "   range diff dsg  \n",
       "0         84.3750  \n",
       "1        112.5000  \n",
       "2        111.5625  \n",
       "3         99.0625  \n",
       "4         81.2500  "
      ]
     },
     "execution_count": 14,
     "metadata": {},
     "output_type": "execute_result"
    }
   ],
   "source": [
    "datV.head()"
   ]
  },
  {
   "cell_type": "code",
   "execution_count": 15,
   "metadata": {},
   "outputs": [
    {
     "name": "stdout",
     "output_type": "stream",
     "text": [
      "Middeldorp mean:  -3\n",
      "-3.536299765289516\n",
      "-3.5362997658079656\n",
      "-3.53629976580797\n",
      "Middeldorp mean:  -11\n",
      "-11.651785715597082\n",
      "-11.65178571428571\n",
      "-11.651785714285714\n"
     ]
    }
   ],
   "source": [
    "# Mean differences\n",
    "print('Middeldorp mean: ', df_Midd.loc['V', 'mean inc lev'])\n",
    "print(np.mean(datV['mean diff lev']))\n",
    "print(np.max(datV['mean diff lev']))\n",
    "print(np.min(datV['mean diff lev']))\n",
    "\n",
    "print('Middeldorp mean: ', df_Midd.loc['V', 'mean inc dsg'])\n",
    "print(np.mean(datV['mean diff dsg']))\n",
    "print(np.max(datV['mean diff dsg']))\n",
    "print(np.min(datV['mean diff dsg']))"
   ]
  },
  {
   "cell_type": "code",
   "execution_count": 16,
   "metadata": {},
   "outputs": [
    {
     "name": "stdout",
     "output_type": "stream",
     "text": [
      "Middeldorp std:  12\n",
      "22.646896488141184\n",
      "30.604204345633025\n",
      "10.43543005849204\n",
      "Middeldorp std:  8\n",
      "20.036531596026723\n",
      "26.715663609184062\n",
      "9.225314378526784\n"
     ]
    }
   ],
   "source": [
    "# Std differences\n",
    "print('Middeldorp std: ', df_Midd.loc['V', 'sd inc lev'])\n",
    "print(np.mean(datV['std diff lev']))\n",
    "print(np.max(datV['std diff lev']))\n",
    "print(np.min(datV['std diff lev']))\n",
    "\n",
    "print('Middeldorp std: ', df_Midd.loc['V', 'sd inc dsg'])\n",
    "print(np.mean(datV['std diff dsg']))\n",
    "print(np.max(datV['std diff dsg']))\n",
    "print(np.min(datV['std diff dsg']))"
   ]
  },
  {
   "cell_type": "code",
   "execution_count": 17,
   "metadata": {},
   "outputs": [
    {
     "name": "stdout",
     "output_type": "stream",
     "text": [
      "12\n"
     ]
    },
    {
     "data": {
      "image/png": "[encoded data removed]",
      "text/plain": [
       "<Figure size 504x360 with 1 Axes>"
      ]
     },
     "metadata": {
      "needs_background": "light"
     },
     "output_type": "display_data"
    },
    {
     "data": {
      "text/plain": [
       "<Figure size 432x288 with 0 Axes>"
      ]
     },
     "metadata": {},
     "output_type": "display_data"
    }
   ],
   "source": [
    "# std differences lev\n",
    "plt.figure(figsize=(7,5))\n",
    "plt.hist(datV['std diff lev'], density = True, bins = 30)\n",
    "plt.axvline(x=df_Midd.loc['V', 'sd inc lev'], color='r', linestyle='--')\n",
    "plt.xlabel('std Factor V difference after lev', fontsize=18)\n",
    "plt.ylabel('density', fontsize = 18)\n",
    "plt.rcParams.update({'font.size': 16})\n",
    "print(df_Midd.loc['V', 'sd inc lev'])\n",
    "plt.show()\n",
    "\n",
    "plt.clf()"
   ]
  },
  {
   "cell_type": "code",
   "execution_count": 18,
   "metadata": {},
   "outputs": [
    {
     "name": "stdout",
     "output_type": "stream",
     "text": [
      "Middeldorp std:  12\n",
      "There are  521  permutations within 10 percent of the standard deviation\n"
     ]
    }
   ],
   "source": [
    "Midd_sd = df_Midd.loc['V', 'sd inc lev']\n",
    "print('Middeldorp std: ', Midd_sd)\n",
    "Midd_sd_max = 1.1 * Midd_sd\n",
    "Midd_sd_min = 0.9 * Midd_sd\n",
    "\n",
    "# How many are within 10% of the reported SD?\n",
    "arr = datV['std diff lev']\n",
    "low = Midd_sd_min\n",
    "high = Midd_sd_max\n",
    "mask = (arr > low) & (arr < high)\n",
    "count = np.count_nonzero(mask)\n",
    "\n",
    "print(\"There are \", count, \" permutations within 10 percent of the standard deviation\")\n",
    "#print(np.where(mask))\n"
   ]
  },
  {
   "cell_type": "code",
   "execution_count": 19,
   "metadata": {},
   "outputs": [
    {
     "data": {
      "text/plain": [
       "0.00521"
      ]
     },
     "execution_count": 19,
     "metadata": {},
     "output_type": "execute_result"
    }
   ],
   "source": [
    "count/1e7 * 100"
   ]
  },
  {
   "cell_type": "code",
   "execution_count": 20,
   "metadata": {},
   "outputs": [
    {
     "name": "stdout",
     "output_type": "stream",
     "text": [
      "8\n"
     ]
    },
    {
     "data": {
      "image/png": "[encoded data removed]",
      "text/plain": [
       "<Figure size 504x360 with 1 Axes>"
      ]
     },
     "metadata": {
      "needs_background": "light"
     },
     "output_type": "display_data"
    },
    {
     "data": {
      "text/plain": [
       "<Figure size 432x288 with 0 Axes>"
      ]
     },
     "metadata": {},
     "output_type": "display_data"
    }
   ],
   "source": [
    "# std differences dsg\n",
    "plt.figure(figsize=(7,5))\n",
    "plt.hist(datV['std diff dsg'], density = True, bins = 30)\n",
    "plt.axvline(x=df_Midd.loc['V', 'sd inc dsg'], color='r', linestyle='--')\n",
    "plt.xlabel('std Factor V difference after dsg', fontsize=18)\n",
    "plt.ylabel('density', fontsize = 18)\n",
    "plt.rcParams.update({'font.size': 16})\n",
    "print(df_Midd.loc['V', 'sd inc dsg'])\n",
    "plt.show()\n",
    "plt.clf()"
   ]
  },
  {
   "cell_type": "code",
   "execution_count": 21,
   "metadata": {},
   "outputs": [
    {
     "name": "stdout",
     "output_type": "stream",
     "text": [
      "Middeldorp std:  8\n",
      "There are  0  permutations within 10 percent of the standard deviation\n"
     ]
    }
   ],
   "source": [
    "Midd_sd = df_Midd.loc['V', 'sd inc dsg']\n",
    "print('Middeldorp std: ', Midd_sd)\n",
    "Midd_sd_max = 1.1 * Midd_sd\n",
    "Midd_sd_min = 0.9 * Midd_sd\n",
    "\n",
    "# How many are within 10% of the reported SD?\n",
    "arr = datV['std diff dsg']\n",
    "low = Midd_sd_min\n",
    "high = Midd_sd_max\n",
    "mask = (arr > low) & (arr < high)\n",
    "count = np.count_nonzero(mask)\n",
    "\n",
    "print(\"There are \", count, \" permutations within 10 percent of the standard deviation\")\n",
    "#print(np.where(mask))"
   ]
  },
  {
   "cell_type": "code",
   "execution_count": 22,
   "metadata": {},
   "outputs": [
    {
     "name": "stdout",
     "output_type": "stream",
     "text": [
      "5.45620828641978\n",
      "-11.651785714285714\n",
      "ordered std is  5.45620828641978\n"
     ]
    }
   ],
   "source": [
    "# Fully sorted case\n",
    "# Is it possible to get this std?\n",
    "# Import factor V data\n",
    "# load data\n",
    "fname = 'data/Factor' + 'V' + '_all.csv'\n",
    "dat_MiddV = pd.read_csv(fname)\n",
    "\n",
    "dat_noOC2 = np.sort(dat_MiddV['noOC2'].to_numpy()) # no OC2 data\n",
    "dat_dsg = np.sort(dat_MiddV['dsg'].to_numpy()) # dsg data\n",
    "\n",
    "dsg_diff = dat_dsg - dat_noOC2\n",
    "print(np.std(dsg_diff))\n",
    "print(np.mean(dsg_diff))\n",
    "\n",
    "print('ordered std is ', np.std(dsg_diff))"
   ]
  },
  {
   "cell_type": "markdown",
   "metadata": {},
   "source": [
    "# Factor VIII\n",
    "NOTE: Factor VIII did not have a full 28 patients in the data so I will do separately."
   ]
  },
  {
   "cell_type": "markdown",
   "metadata": {},
   "source": [
    "# Factor X"
   ]
  },
  {
   "cell_type": "code",
   "execution_count": 23,
   "metadata": {},
   "outputs": [],
   "source": [
    "factor = 'X'\n",
    "fname = date_string + 'Factor' + factor + '_diffs_nperms-'+ str_num + '.csv'\n",
    "datX = pd.read_csv(fname)"
   ]
  },
  {
   "cell_type": "code",
   "execution_count": 24,
   "metadata": {},
   "outputs": [
    {
     "data": {
      "text/html": [
       "<div>\n",
       "<style scoped>\n",
       "    .dataframe tbody tr th:only-of-type {\n",
       "        vertical-align: middle;\n",
       "    }\n",
       "\n",
       "    .dataframe tbody tr th {\n",
       "        vertical-align: top;\n",
       "    }\n",
       "\n",
       "    .dataframe thead th {\n",
       "        text-align: right;\n",
       "    }\n",
       "</style>\n",
       "<table border=\"1\" class=\"dataframe\">\n",
       "  <thead>\n",
       "    <tr style=\"text-align: right;\">\n",
       "      <th></th>\n",
       "      <th>mean diff lev</th>\n",
       "      <th>std diff lev</th>\n",
       "      <th>range diff lev</th>\n",
       "      <th>mean diff dsg</th>\n",
       "      <th>std diff dsg</th>\n",
       "      <th>range diff dsg</th>\n",
       "    </tr>\n",
       "  </thead>\n",
       "  <tbody>\n",
       "    <tr>\n",
       "      <th>0</th>\n",
       "      <td>22.122777</td>\n",
       "      <td>18.376097</td>\n",
       "      <td>78.393574</td>\n",
       "      <td>25.253456</td>\n",
       "      <td>16.132865</td>\n",
       "      <td>66.752688</td>\n",
       "    </tr>\n",
       "    <tr>\n",
       "      <th>1</th>\n",
       "      <td>22.122777</td>\n",
       "      <td>23.062576</td>\n",
       "      <td>99.598394</td>\n",
       "      <td>25.253456</td>\n",
       "      <td>20.486505</td>\n",
       "      <td>90.494624</td>\n",
       "    </tr>\n",
       "    <tr>\n",
       "      <th>2</th>\n",
       "      <td>22.122777</td>\n",
       "      <td>23.355639</td>\n",
       "      <td>85.140562</td>\n",
       "      <td>25.253456</td>\n",
       "      <td>21.581891</td>\n",
       "      <td>90.150538</td>\n",
       "    </tr>\n",
       "    <tr>\n",
       "      <th>3</th>\n",
       "      <td>22.122777</td>\n",
       "      <td>22.951371</td>\n",
       "      <td>116.305221</td>\n",
       "      <td>25.253456</td>\n",
       "      <td>20.504248</td>\n",
       "      <td>97.720430</td>\n",
       "    </tr>\n",
       "    <tr>\n",
       "      <th>4</th>\n",
       "      <td>22.122777</td>\n",
       "      <td>22.398094</td>\n",
       "      <td>108.273092</td>\n",
       "      <td>25.253456</td>\n",
       "      <td>19.237266</td>\n",
       "      <td>88.774194</td>\n",
       "    </tr>\n",
       "  </tbody>\n",
       "</table>\n",
       "</div>"
      ],
      "text/plain": [
       "   mean diff lev  std diff lev  range diff lev  mean diff dsg  std diff dsg  \\\n",
       "0      22.122777     18.376097       78.393574      25.253456     16.132865   \n",
       "1      22.122777     23.062576       99.598394      25.253456     20.486505   \n",
       "2      22.122777     23.355639       85.140562      25.253456     21.581891   \n",
       "3      22.122777     22.951371      116.305221      25.253456     20.504248   \n",
       "4      22.122777     22.398094      108.273092      25.253456     19.237266   \n",
       "\n",
       "   range diff dsg  \n",
       "0       66.752688  \n",
       "1       90.494624  \n",
       "2       90.150538  \n",
       "3       97.720430  \n",
       "4       88.774194  "
      ]
     },
     "execution_count": 24,
     "metadata": {},
     "output_type": "execute_result"
    }
   ],
   "source": [
    "datX.head()"
   ]
  },
  {
   "cell_type": "code",
   "execution_count": 25,
   "metadata": {},
   "outputs": [
    {
     "name": "stdout",
     "output_type": "stream",
     "text": [
      "Middeldorp mean:  22\n",
      "22.122776827123456\n",
      "22.12277682157201\n",
      "22.122776821571996\n",
      "Middeldorp mean:  25\n",
      "25.25345622711085\n",
      "25.25345622119817\n",
      "25.253456221198157\n"
     ]
    }
   ],
   "source": [
    "# Mean differences\n",
    "print('Middeldorp mean: ', df_Midd.loc['X', 'mean inc lev'])\n",
    "print(np.mean(datX['mean diff lev']))\n",
    "print(np.max(datX['mean diff lev']))\n",
    "print(np.min(datX['mean diff lev']))\n",
    "\n",
    "print('Middeldorp mean: ', df_Midd.loc['X', 'mean inc dsg'])\n",
    "print(np.mean(datX['mean diff dsg']))\n",
    "print(np.max(datX['mean diff dsg']))\n",
    "print(np.min(datX['mean diff dsg']))"
   ]
  },
  {
   "cell_type": "code",
   "execution_count": 26,
   "metadata": {},
   "outputs": [
    {
     "name": "stdout",
     "output_type": "stream",
     "text": [
      "Middeldorp std:  14\n",
      "21.000309853593368\n",
      "28.3500119739258\n",
      "8.812870516769332\n",
      "Middeldorp std:  12\n",
      "19.10407323272663\n",
      "25.932691013075612\n",
      "8.618032299829494\n"
     ]
    }
   ],
   "source": [
    "# Std differences\n",
    "print('Middeldorp std: ', df_Midd.loc['X', 'sd inc lev'])\n",
    "print(np.mean(datX['std diff lev']))\n",
    "print(np.max(datX['std diff lev']))\n",
    "print(np.min(datX['std diff lev']))\n",
    "\n",
    "print('Middeldorp std: ', df_Midd.loc['X', 'sd inc dsg'])\n",
    "print(np.mean(datX['std diff dsg']))\n",
    "print(np.max(datX['std diff dsg']))\n",
    "print(np.min(datX['std diff dsg']))"
   ]
  },
  {
   "cell_type": "code",
   "execution_count": 27,
   "metadata": {},
   "outputs": [
    {
     "name": "stdout",
     "output_type": "stream",
     "text": [
      "14\n"
     ]
    },
    {
     "data": {
      "image/png": "[encoded data removed]",
      "text/plain": [
       "<Figure size 504x360 with 1 Axes>"
      ]
     },
     "metadata": {
      "needs_background": "light"
     },
     "output_type": "display_data"
    },
    {
     "data": {
      "text/plain": [
       "<Figure size 432x288 with 0 Axes>"
      ]
     },
     "metadata": {},
     "output_type": "display_data"
    }
   ],
   "source": [
    "# std differences lev\n",
    "plt.figure(figsize=(7,5))\n",
    "plt.hist(datX['std diff lev'], density = True, bins = 30)\n",
    "plt.axvline(x=df_Midd.loc['X', 'sd inc lev'], color='r', linestyle='--')\n",
    "plt.xlabel('std Factor X difference after lev', fontsize=18)\n",
    "plt.ylabel('density', fontsize = 18)\n",
    "plt.rcParams.update({'font.size': 16})\n",
    "print(df_Midd.loc['X', 'sd inc lev'])\n",
    "plt.show()\n",
    "\n",
    "plt.clf()"
   ]
  },
  {
   "cell_type": "code",
   "execution_count": 28,
   "metadata": {},
   "outputs": [
    {
     "name": "stdout",
     "output_type": "stream",
     "text": [
      "Middeldorp std:  14\n",
      "There are  53735  permutations within 10 percent of the standard deviation\n"
     ]
    }
   ],
   "source": [
    "Midd_sd = df_Midd.loc['X', 'sd inc lev']\n",
    "print('Middeldorp std: ', Midd_sd)\n",
    "Midd_sd_max = 1.1 * Midd_sd\n",
    "Midd_sd_min = 0.9 * Midd_sd\n",
    "\n",
    "# How many are within 10% of the reported SD?\n",
    "arr = datX['std diff lev']\n",
    "low = Midd_sd_min\n",
    "high = Midd_sd_max\n",
    "mask = (arr > low) & (arr < high)\n",
    "count = np.count_nonzero(mask)\n",
    "\n",
    "print(\"There are \", count, \" permutations within 10 percent of the standard deviation\")\n",
    "#print(np.where(mask))"
   ]
  },
  {
   "cell_type": "code",
   "execution_count": 29,
   "metadata": {},
   "outputs": [
    {
     "name": "stdout",
     "output_type": "stream",
     "text": [
      "12\n"
     ]
    },
    {
     "data": {
      "image/png": "[encoded data removed]",
      "text/plain": [
       "<Figure size 504x360 with 1 Axes>"
      ]
     },
     "metadata": {
      "needs_background": "light"
     },
     "output_type": "display_data"
    },
    {
     "data": {
      "text/plain": [
       "<Figure size 432x288 with 0 Axes>"
      ]
     },
     "metadata": {},
     "output_type": "display_data"
    }
   ],
   "source": [
    "# std differences dsg\n",
    "plt.figure(figsize=(7,5))\n",
    "plt.hist(datV['std diff dsg'], density = True, bins = 30)\n",
    "plt.axvline(x=df_Midd.loc['X', 'sd inc dsg'], color='r', linestyle='--')\n",
    "plt.xlabel('std Factor X difference after dsg', fontsize=18)\n",
    "plt.ylabel('density', fontsize = 18)\n",
    "plt.rcParams.update({'font.size': 16})\n",
    "print(df_Midd.loc['X', 'sd inc dsg'])\n",
    "plt.show()\n",
    "plt.clf()"
   ]
  },
  {
   "cell_type": "code",
   "execution_count": 30,
   "metadata": {},
   "outputs": [
    {
     "name": "stdout",
     "output_type": "stream",
     "text": [
      "Middeldorp std:  12\n",
      "There are  9542  permutations within 10 percent of the standard deviation\n"
     ]
    }
   ],
   "source": [
    "Midd_sd = df_Midd.loc['X', 'sd inc dsg']\n",
    "print('Middeldorp std: ', Midd_sd)\n",
    "Midd_sd_max = 1.1 * Midd_sd\n",
    "Midd_sd_min = 0.9 * Midd_sd\n",
    "\n",
    "# How many are within 10% of the reported SD?\n",
    "arr = datV['std diff dsg']\n",
    "low = Midd_sd_min\n",
    "high = Midd_sd_max\n",
    "mask = (arr > low) & (arr < high)\n",
    "count = np.count_nonzero(mask)\n",
    "\n",
    "print(\"There are \", count, \" permutations within 10 percent of the standard deviation\")\n",
    "#print(np.where(mask))"
   ]
  },
  {
   "cell_type": "markdown",
   "metadata": {},
   "source": [
    "# Factor II"
   ]
  },
  {
   "cell_type": "code",
   "execution_count": 31,
   "metadata": {},
   "outputs": [],
   "source": [
    "# factor\n",
    "factor = 'II'\n",
    "fname = date_string + 'Factor' + factor + '_diffs_nperms-'+ str_num + '.csv'\n",
    "datII = pd.read_csv(fname)"
   ]
  },
  {
   "cell_type": "code",
   "execution_count": 32,
   "metadata": {},
   "outputs": [
    {
     "data": {
      "text/html": [
       "<div>\n",
       "<style scoped>\n",
       "    .dataframe tbody tr th:only-of-type {\n",
       "        vertical-align: middle;\n",
       "    }\n",
       "\n",
       "    .dataframe tbody tr th {\n",
       "        vertical-align: top;\n",
       "    }\n",
       "\n",
       "    .dataframe thead th {\n",
       "        text-align: right;\n",
       "    }\n",
       "</style>\n",
       "<table border=\"1\" class=\"dataframe\">\n",
       "  <thead>\n",
       "    <tr style=\"text-align: right;\">\n",
       "      <th></th>\n",
       "      <th>mean diff lev</th>\n",
       "      <th>std diff lev</th>\n",
       "      <th>range diff lev</th>\n",
       "      <th>mean diff dsg</th>\n",
       "      <th>std diff dsg</th>\n",
       "      <th>range diff dsg</th>\n",
       "    </tr>\n",
       "  </thead>\n",
       "  <tbody>\n",
       "    <tr>\n",
       "      <th>0</th>\n",
       "      <td>12.594517</td>\n",
       "      <td>16.192175</td>\n",
       "      <td>72.404040</td>\n",
       "      <td>15.323703</td>\n",
       "      <td>15.855036</td>\n",
       "      <td>88.689139</td>\n",
       "    </tr>\n",
       "    <tr>\n",
       "      <th>1</th>\n",
       "      <td>12.594517</td>\n",
       "      <td>19.687529</td>\n",
       "      <td>82.101010</td>\n",
       "      <td>15.323703</td>\n",
       "      <td>20.299284</td>\n",
       "      <td>106.067416</td>\n",
       "    </tr>\n",
       "    <tr>\n",
       "      <th>2</th>\n",
       "      <td>12.594517</td>\n",
       "      <td>20.576452</td>\n",
       "      <td>92.444444</td>\n",
       "      <td>15.323703</td>\n",
       "      <td>19.807473</td>\n",
       "      <td>106.067416</td>\n",
       "    </tr>\n",
       "    <tr>\n",
       "      <th>3</th>\n",
       "      <td>12.594517</td>\n",
       "      <td>20.436523</td>\n",
       "      <td>107.959596</td>\n",
       "      <td>15.323703</td>\n",
       "      <td>19.303800</td>\n",
       "      <td>99.176030</td>\n",
       "    </tr>\n",
       "    <tr>\n",
       "      <th>4</th>\n",
       "      <td>12.594517</td>\n",
       "      <td>17.006813</td>\n",
       "      <td>71.111111</td>\n",
       "      <td>15.323703</td>\n",
       "      <td>16.753729</td>\n",
       "      <td>88.689139</td>\n",
       "    </tr>\n",
       "  </tbody>\n",
       "</table>\n",
       "</div>"
      ],
      "text/plain": [
       "   mean diff lev  std diff lev  range diff lev  mean diff dsg  std diff dsg  \\\n",
       "0      12.594517     16.192175       72.404040      15.323703     15.855036   \n",
       "1      12.594517     19.687529       82.101010      15.323703     20.299284   \n",
       "2      12.594517     20.576452       92.444444      15.323703     19.807473   \n",
       "3      12.594517     20.436523      107.959596      15.323703     19.303800   \n",
       "4      12.594517     17.006813       71.111111      15.323703     16.753729   \n",
       "\n",
       "   range diff dsg  \n",
       "0       88.689139  \n",
       "1      106.067416  \n",
       "2      106.067416  \n",
       "3       99.176030  \n",
       "4       88.689139  "
      ]
     },
     "execution_count": 32,
     "metadata": {},
     "output_type": "execute_result"
    }
   ],
   "source": [
    "datII.head()"
   ]
  },
  {
   "cell_type": "code",
   "execution_count": 33,
   "metadata": {},
   "outputs": [
    {
     "name": "stdout",
     "output_type": "stream",
     "text": [
      "Middeldorp mean:  12\n",
      "12.594516593262535\n",
      "12.594516594516604\n",
      "12.594516594516596\n",
      "Middeldorp mean:  16\n",
      "15.323702514210478\n",
      "15.323702514713757\n",
      "15.323702514713744\n"
     ]
    }
   ],
   "source": [
    "# Mean differences\n",
    "print('Middeldorp mean: ', df_Midd.loc['II', 'mean inc lev'])\n",
    "print(np.mean(datII['mean diff lev']))\n",
    "print(np.max(datII['mean diff lev']))\n",
    "print(np.min(datII['mean diff lev']))\n",
    "\n",
    "print('Middeldorp mean: ', df_Midd.loc['II', 'mean inc dsg'])\n",
    "print(np.mean(datII['mean diff dsg']))\n",
    "print(np.max(datII['mean diff dsg']))\n",
    "print(np.min(datII['mean diff dsg']))"
   ]
  },
  {
   "cell_type": "code",
   "execution_count": 34,
   "metadata": {},
   "outputs": [
    {
     "name": "stdout",
     "output_type": "stream",
     "text": [
      "Middeldorp std:  8\n",
      "18.12955835984021\n",
      "23.994030131775794\n",
      "7.3441963527053264\n",
      "Middeldorp std:  6\n",
      "17.869000940796305\n",
      "22.676679217366257\n",
      "5.9213074862463255\n"
     ]
    }
   ],
   "source": [
    "# Std differences\n",
    "print('Middeldorp std: ', df_Midd.loc['II', 'sd inc lev'])\n",
    "print(np.mean(datII['std diff lev']))\n",
    "print(np.max(datII['std diff lev']))\n",
    "print(np.min(datII['std diff lev']))\n",
    "\n",
    "print('Middeldorp std: ', df_Midd.loc['II', 'sd inc dsg'])\n",
    "print(np.mean(datII['std diff dsg']))\n",
    "print(np.max(datII['std diff dsg']))\n",
    "print(np.min(datII['std diff dsg']))"
   ]
  },
  {
   "cell_type": "code",
   "execution_count": 35,
   "metadata": {},
   "outputs": [
    {
     "name": "stdout",
     "output_type": "stream",
     "text": [
      "Middeldorp std:  8\n"
     ]
    }
   ],
   "source": [
    "Midd_sd = df_Midd.loc['II', 'sd inc lev']\n",
    "print('Middeldorp std: ', Midd_sd)\n",
    "Midd_sd_max = 1.1 * Midd_sd\n",
    "Midd_sd_min = 0.9 * Midd_sd"
   ]
  },
  {
   "cell_type": "code",
   "execution_count": 36,
   "metadata": {},
   "outputs": [
    {
     "name": "stdout",
     "output_type": "stream",
     "text": [
      "8\n"
     ]
    },
    {
     "data": {
      "image/png": "[encoded data removed]",
      "text/plain": [
       "<Figure size 504x360 with 1 Axes>"
      ]
     },
     "metadata": {
      "needs_background": "light"
     },
     "output_type": "display_data"
    },
    {
     "data": {
      "text/plain": [
       "<Figure size 432x288 with 0 Axes>"
      ]
     },
     "metadata": {},
     "output_type": "display_data"
    }
   ],
   "source": [
    "# std differences lev\n",
    "plt.figure(figsize=(7,5))\n",
    "plt.hist(datII['std diff lev'], density = True, bins = 30)\n",
    "plt.axvline(x=df_Midd.loc['II', 'sd inc lev'], color='r', linestyle='--')\n",
    "plt.xlabel('std Factor II difference after lev', fontsize=18)\n",
    "plt.ylabel('density', fontsize = 18)\n",
    "plt.rcParams.update({'font.size': 16})\n",
    "print(df_Midd.loc['II', 'sd inc lev'])\n",
    "plt.show()\n",
    "\n",
    "plt.clf()"
   ]
  },
  {
   "cell_type": "code",
   "execution_count": 37,
   "metadata": {},
   "outputs": [
    {
     "name": "stdout",
     "output_type": "stream",
     "text": [
      "There are  38  permutations within 10 percent of the standard deviation\n",
      "(array([  74122,  699967,  743445,  846346, 1499186, 2378924, 2669753,\n",
      "       2957468, 3423018, 3521627, 3869445, 4509623, 4699349, 4714601,\n",
      "       4873599, 4919662, 4962853, 5045788, 5098949, 5394734, 5819539,\n",
      "       6047215, 6745881, 7395049, 7665480, 7800442, 7849644, 8037435,\n",
      "       8113643, 8306541, 8379985, 8510392, 8879356, 9315813, 9426477,\n",
      "       9531647, 9775636, 9962639]),)\n"
     ]
    }
   ],
   "source": [
    "# How many are within 10% of the reported SD?\n",
    "arr = datII['std diff lev']\n",
    "low = Midd_sd_min\n",
    "high = Midd_sd_max\n",
    "mask = (arr > low) & (arr < high)\n",
    "count = np.count_nonzero(mask)\n",
    "\n",
    "print(\"There are \", count, \" permutations within 10 percent of the standard deviation\")\n",
    "print(np.where(mask))"
   ]
  },
  {
   "cell_type": "code",
   "execution_count": 38,
   "metadata": {},
   "outputs": [
    {
     "name": "stdout",
     "output_type": "stream",
     "text": [
      "6\n"
     ]
    },
    {
     "data": {
      "image/png": "[encoded data removed]",
      "text/plain": [
       "<Figure size 504x360 with 1 Axes>"
      ]
     },
     "metadata": {
      "needs_background": "light"
     },
     "output_type": "display_data"
    },
    {
     "data": {
      "text/plain": [
       "<Figure size 432x288 with 0 Axes>"
      ]
     },
     "metadata": {},
     "output_type": "display_data"
    }
   ],
   "source": [
    "# std differences dsg\n",
    "plt.figure(figsize=(7,5))\n",
    "plt.hist(datII['std diff dsg'], density = True, bins = 30)\n",
    "plt.axvline(x=df_Midd.loc['II', 'sd inc dsg'], color='r', linestyle='--')\n",
    "plt.xlabel('std Factor II difference after dsg', fontsize=18)\n",
    "plt.ylabel('density', fontsize = 18)\n",
    "plt.rcParams.update({'font.size': 16})\n",
    "print(df_Midd.loc['II', 'sd inc dsg'])\n",
    "plt.show()\n",
    "plt.clf()"
   ]
  },
  {
   "cell_type": "code",
   "execution_count": 39,
   "metadata": {},
   "outputs": [],
   "source": [
    "# Is it possible to get this std?\n",
    "# Import factor II data\n",
    "# load data\n",
    "fname = 'data/Factor' + factor + '_all.csv'\n",
    "dat_MiddII = pd.read_csv(fname)"
   ]
  },
  {
   "cell_type": "code",
   "execution_count": 40,
   "metadata": {},
   "outputs": [],
   "source": [
    "dat_noOC1 = np.sort(dat_MiddII['noOC1'].to_numpy()) # no OC1 data\n",
    "dat_lev = np.sort(dat_MiddII['lev'].to_numpy()) # lev data\n",
    "dat_noOC2 = np.sort(dat_MiddII['noOC2'].to_numpy()) # no OC2 data\n",
    "dat_dsg = np.sort(dat_MiddII['dsg'].to_numpy()) # dsg data"
   ]
  },
  {
   "cell_type": "code",
   "execution_count": 41,
   "metadata": {},
   "outputs": [
    {
     "name": "stdout",
     "output_type": "stream",
     "text": [
      "2.8025807451015234\n",
      "12.5945165945166\n",
      "3.221809127523439\n",
      "15.323702514713753\n"
     ]
    }
   ],
   "source": [
    "lev_diff = dat_lev - dat_noOC1\n",
    "print(np.std(lev_diff))\n",
    "print(np.mean(lev_diff))\n",
    "\n",
    "dsg_diff = dat_dsg - dat_noOC2\n",
    "print(np.std(dsg_diff))\n",
    "print(np.mean(dsg_diff))"
   ]
  }
 ],
 "metadata": {
  "kernelspec": {
   "display_name": "Python 3",
   "language": "python",
   "name": "python3"
  },
  "language_info": {
   "codemirror_mode": {
    "name": "ipython",
    "version": 3
   },
   "file_extension": ".py",
   "mimetype": "text/x-python",
   "name": "python",
   "nbconvert_exporter": "python",
   "pygments_lexer": "ipython3",
   "version": "3.10.12"
  }
 },
 "nbformat": 4,
 "nbformat_minor": 2
}
